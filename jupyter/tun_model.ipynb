{
 "cells": [
  {
   "cell_type": "code",
   "execution_count": 1,
   "id": "confirmed-migration",
   "metadata": {},
   "outputs": [],
   "source": [
    "import tokenizers \n",
    "from tokenizers import BertWordPieceTokenizer\n",
    "import pandas as pd\n",
    "import os"
   ]
  },
  {
   "cell_type": "code",
   "execution_count": null,
   "id": "6dc143bc-19e8-4708-b793-2378d196669f",
   "metadata": {},
   "outputs": [],
   "source": []
  },
  {
   "cell_type": "code",
   "execution_count": 2,
   "id": "9a8813c4-c8d0-4e7c-bacf-935bee9845cd",
   "metadata": {},
   "outputs": [],
   "source": [
    "with open (\"../datasets/tunisien/scrapped_texts/messages.txt\", \"r\") as file :\n",
    "    tn_dataset_v1  = file.readlines()\n",
    "\n",
    "with open (\"../datasets/tunisien/scrapped_texts/comments.txt\", \"r\") as file :\n",
    "    tn_dataset_v2  = file.readlines()\n"
   ]
  },
  {
   "cell_type": "code",
   "execution_count": 3,
   "id": "25e18ed4-d916-4ed5-b77b-2769af2707fa",
   "metadata": {},
   "outputs": [],
   "source": [
    "tn = []\n",
    "tn.extend(tn_dataset_v1)\n",
    "tn.extend(tn_dataset_v2)\n",
    "\n",
    "pd.DataFrame(tn,columns=[\"text\"])[\"text\"].to_csv(\"../transformers/tun.csv\", index=False)"
   ]
  },
  {
   "cell_type": "code",
   "execution_count": null,
   "id": "8cd871b5-a0e9-4263-8846-4603a5ff477b",
   "metadata": {},
   "outputs": [],
   "source": []
  },
  {
   "cell_type": "code",
   "execution_count": 22,
   "id": "indonesian-front",
   "metadata": {},
   "outputs": [
    {
     "data": {
      "text/plain": [
       "569724"
      ]
     },
     "execution_count": 22,
     "metadata": {},
     "output_type": "execute_result"
    }
   ],
   "source": [
    "data = pd.read_csv(\"../transformers/tun.csv\")\n",
    "\n",
    "all_texts = data.text.values \n",
    "\n",
    "len(all_texts)"
   ]
  },
  {
   "cell_type": "code",
   "execution_count": 5,
   "id": "retired-adams",
   "metadata": {},
   "outputs": [],
   "source": [
    "tokenizer = BertWordPieceTokenizer()\n",
    "tokenizer.train_from_iterator(all_texts, vocab_size=30000)"
   ]
  },
  {
   "cell_type": "code",
   "execution_count": 6,
   "id": "mature-patrick",
   "metadata": {},
   "outputs": [
    {
     "data": {
      "text/plain": [
       "['aaa', 'houma', 'cv', '?', '?', '?']"
      ]
     },
     "execution_count": 6,
     "metadata": {},
     "output_type": "execute_result"
    }
   ],
   "source": [
    "tokenizer.encode(\"aaa houma cv ???\").tokens"
   ]
  },
  {
   "cell_type": "code",
   "execution_count": 21,
   "id": "emerging-racing",
   "metadata": {},
   "outputs": [
    {
     "data": {
      "text/plain": [
       "Encoding(num_tokens=2, attributes=[ids, type_ids, tokens, offsets, attention_mask, special_tokens_mask, overflowing])"
      ]
     },
     "execution_count": 21,
     "metadata": {},
     "output_type": "execute_result"
    }
   ],
   "source": [
    "tokenizer.encode(\"nahoulty n7ebek\")"
   ]
  },
  {
   "cell_type": "code",
   "execution_count": 23,
   "id": "secure-fashion",
   "metadata": {},
   "outputs": [
    {
     "data": {
      "text/plain": [
       "30000"
      ]
     },
     "execution_count": 23,
     "metadata": {},
     "output_type": "execute_result"
    }
   ],
   "source": [
    "tokenizer.tok"
   ]
  },
  {
   "cell_type": "code",
   "execution_count": null,
   "id": "sudden-yield",
   "metadata": {},
   "outputs": [],
   "source": []
  }
 ],
 "metadata": {
  "kernelspec": {
   "display_name": "Python 3",
   "language": "python",
   "name": "python3"
  },
  "language_info": {
   "codemirror_mode": {
    "name": "ipython",
    "version": 3
   },
   "file_extension": ".py",
   "mimetype": "text/x-python",
   "name": "python",
   "nbconvert_exporter": "python",
   "pygments_lexer": "ipython3",
   "version": "3.8.10"
  }
 },
 "nbformat": 4,
 "nbformat_minor": 5
}
