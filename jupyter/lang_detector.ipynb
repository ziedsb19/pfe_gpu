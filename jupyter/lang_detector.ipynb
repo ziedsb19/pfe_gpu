{
 "cells": [
  {
   "cell_type": "code",
   "execution_count": 3,
   "metadata": {},
   "outputs": [],
   "source": [
    "import numpy as np \n",
    "import fasttext\n",
    "import pandas as pd\n",
    "from sklearn import model_selection as ms"
   ]
  },
  {
   "cell_type": "code",
   "execution_count": null,
   "metadata": {},
   "outputs": [],
   "source": []
  },
  {
   "cell_type": "code",
   "execution_count": 2,
   "metadata": {},
   "outputs": [
    {
     "data": {
      "text/plain": [
       "'number of sentences: 3374302 s'"
      ]
     },
     "execution_count": 2,
     "metadata": {},
     "output_type": "execute_result"
    }
   ],
   "source": [
    "with open(\"../datasets/lang_det/all.txt\", \"r\") as file:\n",
    "    data = file.readlines()\n",
    "\"number of sentences: {:d} s\".format(len(data))"
   ]
  },
  {
   "cell_type": "code",
   "execution_count": 3,
   "metadata": {},
   "outputs": [],
   "source": [
    "def extract_label(line:str):\n",
    "    _arr = line.split()\n",
    "    for i in _arr:\n",
    "        if \"__label__\" in i :\n",
    "            _arr.remove(i)\n",
    "            return \" \".join(_arr),i\n",
    "\n",
    "def generate_ds(data:[str]):\n",
    "    return [extract_label(line) for line in data ]\n",
    "     "
   ]
  },
  {
   "cell_type": "code",
   "execution_count": 4,
   "metadata": {},
   "outputs": [],
   "source": [
    "df = generate_ds(data)\n",
    "df = pd.DataFrame(df, columns=[\"sentence\",\"label\"]).sample(len(df))"
   ]
  },
  {
   "cell_type": "code",
   "execution_count": 5,
   "metadata": {},
   "outputs": [
    {
     "data": {
      "text/html": [
       "<div>\n",
       "<style scoped>\n",
       "    .dataframe tbody tr th:only-of-type {\n",
       "        vertical-align: middle;\n",
       "    }\n",
       "\n",
       "    .dataframe tbody tr th {\n",
       "        vertical-align: top;\n",
       "    }\n",
       "\n",
       "    .dataframe thead th {\n",
       "        text-align: right;\n",
       "    }\n",
       "</style>\n",
       "<table border=\"1\" class=\"dataframe\">\n",
       "  <thead>\n",
       "    <tr style=\"text-align: right;\">\n",
       "      <th></th>\n",
       "      <th>sentence</th>\n",
       "      <th>label</th>\n",
       "    </tr>\n",
       "  </thead>\n",
       "  <tbody>\n",
       "    <tr>\n",
       "      <th>1212331</th>\n",
       "      <td>How do you train for this?</td>\n",
       "      <td>__label__eng</td>\n",
       "    </tr>\n",
       "    <tr>\n",
       "      <th>3123127</th>\n",
       "      <td>«Ce serait porter atteinte à un principe fonda...</td>\n",
       "      <td>__label__fra</td>\n",
       "    </tr>\n",
       "    <tr>\n",
       "      <th>1824120</th>\n",
       "      <td>Aimeriez-vous aussi un étui pour vos nouvelles...</td>\n",
       "      <td>__label__fra</td>\n",
       "    </tr>\n",
       "    <tr>\n",
       "      <th>323633</th>\n",
       "      <td>Have you ordered?</td>\n",
       "      <td>__label__eng</td>\n",
       "    </tr>\n",
       "    <tr>\n",
       "      <th>3048172</th>\n",
       "      <td>Un autre domaine dans lequel ils doivent inter...</td>\n",
       "      <td>__label__fra</td>\n",
       "    </tr>\n",
       "    <tr>\n",
       "      <th>...</th>\n",
       "      <td>...</td>\n",
       "      <td>...</td>\n",
       "    </tr>\n",
       "    <tr>\n",
       "      <th>2587092</th>\n",
       "      <td>Woods served 23 years as a Roman Catholic prie...</td>\n",
       "      <td>__label__eng</td>\n",
       "    </tr>\n",
       "    <tr>\n",
       "      <th>1185367</th>\n",
       "      <td>Sami stole money from the club.</td>\n",
       "      <td>__label__eng</td>\n",
       "    </tr>\n",
       "    <tr>\n",
       "      <th>2553143</th>\n",
       "      <td>\"Taking the stage without a band, Spears perfo...</td>\n",
       "      <td>__label__eng</td>\n",
       "    </tr>\n",
       "    <tr>\n",
       "      <th>564447</th>\n",
       "      <td>Tom made it very clear that he wanted his mone...</td>\n",
       "      <td>__label__eng</td>\n",
       "    </tr>\n",
       "    <tr>\n",
       "      <th>1742582</th>\n",
       "      <td>Jean regarda des roses.</td>\n",
       "      <td>__label__fra</td>\n",
       "    </tr>\n",
       "  </tbody>\n",
       "</table>\n",
       "<p>3374302 rows × 2 columns</p>\n",
       "</div>"
      ],
      "text/plain": [
       "                                                  sentence         label\n",
       "1212331                         How do you train for this?  __label__eng\n",
       "3123127  «Ce serait porter atteinte à un principe fonda...  __label__fra\n",
       "1824120  Aimeriez-vous aussi un étui pour vos nouvelles...  __label__fra\n",
       "323633                                   Have you ordered?  __label__eng\n",
       "3048172  Un autre domaine dans lequel ils doivent inter...  __label__fra\n",
       "...                                                    ...           ...\n",
       "2587092  Woods served 23 years as a Roman Catholic prie...  __label__eng\n",
       "1185367                    Sami stole money from the club.  __label__eng\n",
       "2553143  \"Taking the stage without a band, Spears perfo...  __label__eng\n",
       "564447   Tom made it very clear that he wanted his mone...  __label__eng\n",
       "1742582                            Jean regarda des roses.  __label__fra\n",
       "\n",
       "[3374302 rows x 2 columns]"
      ]
     },
     "execution_count": 5,
     "metadata": {},
     "output_type": "execute_result"
    }
   ],
   "source": [
    "df"
   ]
  },
  {
   "cell_type": "code",
   "execution_count": 6,
   "metadata": {},
   "outputs": [
    {
     "data": {
      "text/plain": [
       "__label__eng    2457204\n",
       "__label__fra     817098\n",
       "__label__tun     100000\n",
       "Name: label, dtype: int64"
      ]
     },
     "execution_count": 6,
     "metadata": {},
     "output_type": "execute_result"
    }
   ],
   "source": [
    "df.label.value_counts()"
   ]
  },
  {
   "cell_type": "code",
   "execution_count": 7,
   "metadata": {},
   "outputs": [],
   "source": [
    "train = \"../datasets/lang_det/train.txt\"\n",
    "test = \"../datasets/lang_det/valid.txt\""
   ]
  },
  {
   "cell_type": "code",
   "execution_count": null,
   "metadata": {},
   "outputs": [
    {
     "name": "stdout",
     "output_type": "stream",
     "text": [
      "Read 31M words\n",
      "Number of words:  1046696\n",
      "Number of labels: 2\n",
      "Progress: 100.0% words/sec/thread:  125341 lr:  0.000000 avg.loss:  0.004319 ETA:   0h 0m 0sh 2m51s avg.loss:  0.008567 ETA:   0h 2m 8s 0.006437 ETA:   0h 1m29s\n"
     ]
    }
   ],
   "source": [
    "!fasttext supervised -input ../datasets/lang_det/_train.txt -minn 2 -maxn 5 -dim 100 -epoch 10 -output model -loss hs"
   ]
  },
  {
   "cell_type": "code",
   "execution_count": null,
   "metadata": {},
   "outputs": [],
   "source": []
  },
  {
   "cell_type": "code",
   "execution_count": 5,
   "metadata": {},
   "outputs": [
    {
     "name": "stdout",
     "output_type": "stream",
     "text": [
      "Progress: 100.0% words/sec/thread:  162362 lr:  0.000000 avg.loss:  0.003160 ETA:   0h 0m 0s\n"
     ]
    }
   ],
   "source": [
    "!fasttext quantize -input ../datasets/lang_det/_train.txt  -output model -qnorm -cutoff 50000 -retrain"
   ]
  },
  {
   "cell_type": "code",
   "execution_count": 16,
   "metadata": {},
   "outputs": [
    {
     "name": "stdout",
     "output_type": "stream",
     "text": [
      "N\t105673\n",
      "P@1\t0.996\n",
      "R@1\t0.996\n"
     ]
    }
   ],
   "source": [
    "!fasttext test  model.bin ../datasets/lang_det/_test.txt"
   ]
  },
  {
   "cell_type": "code",
   "execution_count": 7,
   "metadata": {},
   "outputs": [
    {
     "name": "stderr",
     "output_type": "stream",
     "text": [
      "Warning : `load_model` does not return WordVectorModel or SupervisedModel any more, but a `FastText` object which is very similar.\n",
      "Warning : `load_model` does not return WordVectorModel or SupervisedModel any more, but a `FastText` object which is very similar.\n"
     ]
    }
   ],
   "source": [
    "#model = fasttext.load_model(\"./model.ftz\")\n",
    "model2 = fasttext.load_model(\"./model.bin\")\n"
   ]
  },
  {
   "cell_type": "code",
   "execution_count": 20,
   "metadata": {},
   "outputs": [
    {
     "name": "stdout",
     "output_type": "stream",
     "text": [
      "(('__label__tun',), array([0.9595654]))\n"
     ]
    }
   ],
   "source": [
    "\n",
    "def pred(txt):\n",
    "    #print(model.predict(txt))\n",
    "    print(model2.predict(txt))\n",
    "\n",
    "pred(\"hello mr robot are you okay, if not can we go home ? hello mr robot are you okay, if not can we go home ? hello mr robot are you okay, if not can we go home ? hello mr robot are you okay, if not can we go home ?\")"
   ]
  },
  {
   "cell_type": "code",
   "execution_count": null,
   "metadata": {},
   "outputs": [],
   "source": []
  }
 ],
 "metadata": {
  "kernelspec": {
   "display_name": "Python 3",
   "language": "python",
   "name": "python3"
  },
  "language_info": {
   "codemirror_mode": {
    "name": "ipython",
    "version": 3
   },
   "file_extension": ".py",
   "mimetype": "text/x-python",
   "name": "python",
   "nbconvert_exporter": "python",
   "pygments_lexer": "ipython3",
   "version": "3.8.5"
  }
 },
 "nbformat": 4,
 "nbformat_minor": 4
}
